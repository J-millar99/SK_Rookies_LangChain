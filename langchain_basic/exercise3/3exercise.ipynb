{
 "cells": [
  {
   "cell_type": "code",
   "execution_count": null,
   "id": "e24e3d5d",
   "metadata": {},
   "outputs": [],
   "source": [
    "import os\n",
    "from dotenv import load_dotenv\n",
    "\n",
    "load_dotenv()\n",
    "OPENAI_API_KEY = os.getenv(\"OPENAI_API_KEY\")"
   ]
  },
  {
   "cell_type": "markdown",
   "id": "3b816f06",
   "metadata": {},
   "source": [
    "### 1단계: 문서 분할 설정"
   ]
  },
  {
   "cell_type": "code",
   "execution_count": null,
   "id": "6a3ecce4",
   "metadata": {},
   "outputs": [],
   "source": [
    "from langchain.text_splitter import RecursiveCharacterTextSplitter\n",
    "\n",
    "text_splitter = RecursiveCharacterTextSplitter(\n",
    "    chunk_size=1500,\n",
    "    chunk_overlap=300,\n",
    "    separators=[\n",
    "        \"\\n【사건개요】\",     #  법률 문서 섹션 구분자\n",
    "        \"\\n【쟁점사항】\",     #  쟁점 부분 구분\n",
    "        \"\\n【처리경위】\",     #  처리 과정 구분\n",
    "        \"\\n【처리결과】\",     #  결과 부분 구분\n",
    "        \"\\n■\", \"\\n\\n\", \"\\n\", \".\", \" \", \"\"\n",
    "    ]\n",
    ")"
   ]
  },
  {
   "cell_type": "markdown",
   "id": "b0eced17",
   "metadata": {},
   "source": [
    "### 2단계: 임베딩 모델 설정"
   ]
  },
  {
   "cell_type": "code",
   "execution_count": null,
   "id": "2ff5d467",
   "metadata": {},
   "outputs": [],
   "source": [
    "from langchain_openai import OpenAIEmbeddings\n",
    "import numpy as np\n",
    "\n",
    "embeddings = OpenAIEmbeddings(\n",
    "    model=\"text-embedding-3-large\",  #  한국어 법률 용어에 최적\n",
    "    dimensions=1536,                 #  고성능 임베딩 차원\n",
    "    openai_api_key=OPENAI_API_KEY\n",
    ")"
   ]
  },
  {
   "cell_type": "markdown",
   "id": "1f87b2ae",
   "metadata": {},
   "source": [
    "### 3단계: 검색기 설정"
   ]
  },
  {
   "cell_type": "code",
   "execution_count": null,
   "id": "2ce8944e",
   "metadata": {},
   "outputs": [],
   "source": [
    "from langchain_community.vectorstores import FAISS\n",
    "from langchain_community.document_loaders import PyPDFLoader\n",
    "\n",
    "# PDF 파일 경로 (실제 경로로 수정 필요)\n",
    "pdf_path = \"../data/콘텐츠분쟁해결_사례.pdf\"\n",
    "\n",
    "print(\"📄 PDF 문서 로드 중...\")\n",
    "\n",
    "try:\n",
    "    # PDF 파일 로드\n",
    "    loader = PyPDFLoader(pdf_path)\n",
    "    documents = loader.load()\n",
    "    print(f\"✅ 로드된 문서 페이지 수: {len(documents)}\")\n",
    "    \n",
    "    # 문서 분할\n",
    "    split_docs = text_splitter.split_documents(documents)\n",
    "    print(f\"✅ 분할된 청크 수: {len(split_docs)}\")\n",
    "    \n",
    "    # 벡터스토어 생성\n",
    "    vectorstore = FAISS.from_documents(split_docs, embeddings)\n",
    "    print(\"✅ 벡터스토어 생성 완료!\")\n",
    "    \n",
    "    # 검색기 설정 (이 부분이 중요!)\n",
    "    retriever = vectorstore.as_retriever(\n",
    "        search_type=\"similarity\",\n",
    "        search_kwargs={\"k\": 5}\n",
    "    )\n",
    "    print(\"✅ 검색기 설정 완료!\")\n",
    "    \n",
    "except Exception as e:\n",
    "    print(f\"❌ PDF 로드 및 벡터스토어 생성 오류: {e}\")\n",
    "    print(\"PDF 파일 경로를 확인해주세요.\")\n",
    "    # 오류 발생시 시스템 종료\n",
    "    raise"
   ]
  },
  {
   "cell_type": "markdown",
   "id": "3a4e3475",
   "metadata": {},
   "source": [
    "### 4단계: LLM 설정 "
   ]
  },
  {
   "cell_type": "code",
   "execution_count": null,
   "id": "933af64a",
   "metadata": {},
   "outputs": [],
   "source": [
    "from langchain_openai import ChatOpenAI\n",
    "\n",
    "llm = ChatOpenAI(\n",
    "    model=\"gpt-4o\",                 # 또는 \"gpt-4o-mini\" (경제적)\n",
    "    temperature=0.2,                # 법률 조언은 정확성 중시\n",
    "    max_tokens=2000,                # 충분한 답변 길이\n",
    "    openai_api_key=OPENAI_API_KEY\n",
    ")"
   ]
  },
  {
   "cell_type": "markdown",
   "id": "1d253715",
   "metadata": {},
   "source": [
    "### 5단계: 법률 자문 프롬프트 작성"
   ]
  },
  {
   "cell_type": "code",
   "execution_count": null,
   "id": "3ff5b819",
   "metadata": {},
   "outputs": [],
   "source": [
    "from langchain.prompts import PromptTemplate\n",
    "\n",
    "prompt_template = \"\"\"\n",
    "당신은 콘텐츠 분야 전문 법률 자문사입니다. \n",
    "아래 분쟁조정 사례들을 바탕으로 정확하고 전문적인 법률 조언을 제공해주세요.\n",
    "\n",
    "관련 분쟁사례:\n",
    "{context}\n",
    "\n",
    "상담 내용: {question}\n",
    "\n",
    "답변 가이드라인:\n",
    "1. 제시된 사례들을 근거로 답변하세요\n",
    "2. 관련 법령이나 조항이 있다면 명시하세요\n",
    "3. 비슷한 사례의 처리경위와 결과를 참고하여 설명하세요\n",
    "4. 실무적 해결방안을 단계별로 제시하세요\n",
    "5. 사례에 없는 내용은 \"제시된 사례집에서는 확인할 수 없습니다\"라고 명시하세요\n",
    "\n",
    "전문 법률 조언:\"\"\"\n",
    "\n",
    "prompt = PromptTemplate(\n",
    "    template=prompt_template,\n",
    "    input_variables=[\"context\", \"question\"]\n",
    ")"
   ]
  },
  {
   "cell_type": "markdown",
   "id": "66aa38d2",
   "metadata": {},
   "source": [
    "### 6단계: QA 체인 생성 "
   ]
  },
  {
   "cell_type": "code",
   "execution_count": null,
   "id": "b11f9e78",
   "metadata": {},
   "outputs": [],
   "source": [
    "from langchain.chains import RetrievalQA\n",
    "qa_chain = RetrievalQA.from_chain_type(\n",
    "    llm=llm,                        # 위에서 설정한 LLM\n",
    "    chain_type=\"stuff\",             # 문서들을 하나로 합쳐서 처리\n",
    "    retriever=retriever,            # 위에서 설정한 검색기\n",
    "    chain_type_kwargs={\"prompt\": prompt},  # 법률 자문 프롬프트\n",
    "    return_source_documents=True    # 참조 문서도 함께 반환\n",
    ")"
   ]
  },
  {
   "cell_type": "markdown",
   "id": "790b5edd",
   "metadata": {},
   "source": [
    "### 7단계: 테스트 질문 작성 "
   ]
  },
  {
   "cell_type": "code",
   "execution_count": null,
   "id": "24b42274",
   "metadata": {},
   "outputs": [],
   "source": [
    "test_questions = [\n",
    "    \"온라인 게임에서 시스템 오류로 아이템이 사라졌는데, 게임회사가 복구를 거부하고 있습니다. 어떻게 해결할 수 있나요?\",\n",
    "    \"인터넷 강의를 중도 해지하려고 하는데 과도한 위약금을 요구받고 있습니다. 정당한가요?\",\n",
    "    \"무료체험 후 자동으로 유료전환되어 요금이 청구되었습니다. 환불 가능한가요?\",\n",
    "    \"미성년자가 부모 동의 없이 게임 아이템을 구매했습니다. 환불받을 수 있는 방법이 있나요?\",\n",
    "    \"온라인 교육 서비스가 광고와 다르게 제공되어 계약을 해지하고 싶습니다. 가능한가요?\"\n",
    "]"
   ]
  },
  {
   "cell_type": "markdown",
   "id": "dfddbaa4",
   "metadata": {},
   "source": [
    "### 8단계: 분쟁 유형 분류 함수 ( 선택 )"
   ]
  },
  {
   "cell_type": "code",
   "execution_count": null,
   "id": "e1955978",
   "metadata": {},
   "outputs": [],
   "source": [
    "def classify_dispute_type(query):\n",
    "    \"\"\"질문 내용을 분석하여 분쟁 유형을 분류하는 함수\"\"\"\n",
    "    game_keywords = [\"게임\", \"아이템\", \"계정\", \"캐릭터\", \"레벨\", \"길드\", \"온라인게임\"]\n",
    "    elearning_keywords = [\"강의\", \"온라인교육\", \"이러닝\", \"수강\", \"환불\", \"화상교육\"]\n",
    "    web_keywords = [\"웹사이트\", \"무료체험\", \"자동결제\", \"구독\", \"사이트\"]\n",
    "    \n",
    "    query_lower = query.lower()\n",
    "    \n",
    "    if any(keyword in query_lower for keyword in game_keywords):\n",
    "        return \"게임\"\n",
    "    elif any(keyword in query_lower for keyword in elearning_keywords):\n",
    "        return \"이러닝\"\n",
    "    elif any(keyword in query_lower for keyword in web_keywords):\n",
    "        return \"웹콘텐츠\"\n",
    "    else:\n",
    "        return \"기타\""
   ]
  },
  {
   "cell_type": "markdown",
   "id": "650af446",
   "metadata": {},
   "source": [
    "### 9단계: 법률 자문 실행 함수"
   ]
  },
  {
   "cell_type": "code",
   "execution_count": null,
   "id": "96a9ca3b",
   "metadata": {},
   "outputs": [],
   "source": [
    "def get_legal_advice(question):\n",
    "    \"\"\"질문에 대한 법률 자문을 제공하는 함수\"\"\"\n",
    "    try:\n",
    "        # 분쟁 유형 분류\n",
    "        dispute_type = classify_dispute_type(question)\n",
    "        print(f\"분쟁 유형: {dispute_type}\")\n",
    "        print(\"-\" * 50)\n",
    "        \n",
    "        # RAG 체인 실행\n",
    "        result = qa_chain({\"query\": question})\n",
    "        \n",
    "        # 결과 출력\n",
    "        print(\"📋 법률 자문 결과:\")\n",
    "        print(result[\"result\"])\n",
    "        print(\"\\n\" + \"=\"*50)\n",
    "        \n",
    "        # 참조 문서 정보 출력\n",
    "        if result.get(\"source_documents\"):\n",
    "            print(\"📚 참조된 사례 문서:\")\n",
    "            for i, doc in enumerate(result[\"source_documents\"][:3]):  # 상위 3개만 표시\n",
    "                print(f\"[참조 {i+1}] 페이지: {doc.metadata.get('page', 'N/A')}\")\n",
    "                print(f\"내용 미리보기: {doc.page_content[:200]}...\")\n",
    "                print(\"-\" * 30)\n",
    "        \n",
    "        return result\n",
    "        \n",
    "    except Exception as e:\n",
    "        print(f\"법률 자문 처리 중 오류 발생: {e}\")\n",
    "        return None"
   ]
  },
  {
   "cell_type": "markdown",
   "id": "e7025518",
   "metadata": {},
   "source": [
    "### 10단계: 테스트 실행"
   ]
  },
  {
   "cell_type": "code",
   "execution_count": null,
   "id": "5f3cae5f",
   "metadata": {},
   "outputs": [],
   "source": [
    "def run_tests():\n",
    "    \"\"\"테스트 질문들을 실행하는 함수\"\"\"\n",
    "    for i, question in enumerate(test_questions, 1):\n",
    "        print(f\"\\n🔍 테스트 질문 {i}:\")\n",
    "        print(f\"질문: {question}\")\n",
    "        print(\"=\"*70)\n",
    "        \n",
    "        result = get_legal_advice(question)\n",
    "        \n",
    "        if result:\n",
    "            print(\"\\n✅ 자문 완료\")\n",
    "        else:\n",
    "            print(\"\\n❌ 자문 실패\")\n",
    "        \n",
    "        print(\"\\n\" + \"🔄\"*70 + \"\\n\")"
   ]
  },
  {
   "cell_type": "markdown",
   "id": "219bf7ff",
   "metadata": {},
   "source": [
    "### 11단계: 대화형 자문 시스템"
   ]
  },
  {
   "cell_type": "code",
   "execution_count": null,
   "id": "b985e8e0",
   "metadata": {},
   "outputs": [],
   "source": [
    "def interactive_consultation():\n",
    "    \"\"\"대화형 법률 자문 시스템\"\"\"\n",
    "    print(\"💼 콘텐츠 분쟁 해결 법률 자문 시스템\")\n",
    "    print(\"=\" * 50)\n",
    "    print(\"질문을 입력하세요 (종료하려면 'quit' 입력)\")\n",
    "    \n",
    "    while True:\n",
    "        user_question = input(\"\\n🤔 질문: \").strip()\n",
    "        \n",
    "        if user_question.lower() in ['quit', 'exit', '종료', '나가기']:\n",
    "            print(\"👋 법률 자문을 종료합니다.\")\n",
    "            break\n",
    "        \n",
    "        if not user_question:\n",
    "            print(\"질문을 입력해주세요.\")\n",
    "            continue\n",
    "        \n",
    "        print(\"\\n🔍 분석 중...\")\n",
    "        result = get_legal_advice(user_question)\n",
    "        \n",
    "        if not result:\n",
    "            print(\"죄송합니다. 처리 중 오류가 발생했습니다.\")"
   ]
  },
  {
   "cell_type": "markdown",
   "id": "cae7085d",
   "metadata": {},
   "source": [
    "### 메인 실행부"
   ]
  },
  {
   "cell_type": "code",
   "execution_count": null,
   "id": "2d4f2298",
   "metadata": {},
   "outputs": [],
   "source": [
    "if __name__ == \"__main__\":\n",
    "    # 시스템 준비 확인\n",
    "    if 'vectorstore' in locals() and vectorstore is not None:\n",
    "        print(\"✅ RAG 시스템 준비 완료!\")\n",
    "        \n",
    "        # 사용자 선택\n",
    "        print(\"\\n실행 옵션을 선택하세요:\")\n",
    "        print(\"1. 테스트 질문 실행\")\n",
    "        print(\"2. 대화형 자문 시작\")\n",
    "        print(\"3. 단일 질문 테스트\")\n",
    "        \n",
    "        choice = input(\"\\n선택 (1/2/3): \").strip()\n",
    "        \n",
    "        if choice == \"1\":\n",
    "            run_tests()\n",
    "        elif choice == \"2\":\n",
    "            interactive_consultation()\n",
    "        elif choice == \"3\":\n",
    "            test_question = \"온라인 게임에서 시스템 오류로 아이템이 사라졌는데, 게임회사가 복구를 거부하고 있습니다. 어떻게 해결할 수 있나요?\"\n",
    "            print(f\"\\n테스트 질문: {test_question}\")\n",
    "            get_legal_advice(test_question)\n",
    "        else:\n",
    "            print(\"올바른 옵션을 선택해주세요.\")\n",
    "    else:\n",
    "        print(\"❌ RAG 시스템 초기화에 실패했습니다.\")\n",
    "        print(\"PDF 파일 경로와 환경변수를 확인해주세요.\")"
   ]
  }
 ],
 "metadata": {
  "kernelspec": {
   "display_name": "langchain-basic-py3.12",
   "language": "python",
   "name": "python3"
  },
  "language_info": {
   "codemirror_mode": {
    "name": "ipython",
    "version": 3
   },
   "file_extension": ".py",
   "mimetype": "text/x-python",
   "name": "python",
   "nbconvert_exporter": "python",
   "pygments_lexer": "ipython3",
   "version": "3.12.7"
  }
 },
 "nbformat": 4,
 "nbformat_minor": 5
}
