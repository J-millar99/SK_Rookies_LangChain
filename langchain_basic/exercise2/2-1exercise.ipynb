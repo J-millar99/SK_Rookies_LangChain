{
 "cells": [
  {
   "cell_type": "code",
   "execution_count": 48,
   "id": "fc945a3a",
   "metadata": {},
   "outputs": [],
   "source": [
    "import os\n",
    "from dotenv import load_dotenv\n",
    "\n",
    "load_dotenv()\n",
    "OPENAI_API_KEY = os.getenv(\"OPENAI_API_KEY\")"
   ]
  },
  {
   "cell_type": "code",
   "execution_count": 49,
   "id": "cf8e8da7",
   "metadata": {},
   "outputs": [],
   "source": [
    "from langchain_core.output_parsers import CommaSeparatedListOutputParser\n",
    "from langchain_core.prompts import PromptTemplate\n",
    "from langchain_openai import ChatOpenAI\n",
    "\n",
    "# 콤마로 구분된 리스트 출력 파서 초기화\n",
    "output_parser = CommaSeparatedListOutputParser()\n",
    "\n",
    "# 출력 형식 지침 가져오기\n",
    "format_instructions = output_parser.get_format_instructions()\n",
    "\n",
    "# 프롬프트 템플릿 설정\n",
    "prompt = PromptTemplate(\n",
    "    template=\n",
    "    \"\"\"\n",
    "    List five famous Korean regional places or activities related to {subject}.\n",
    "    Each item should be in the format of \"지역명 관련내용\" (region name + related content).\n",
    "    For example, if the subject is \"음식\", respond with items like \"전주 비빔밥\", \"부산 돼지국밥\", etc.\n",
    "    \n",
    "    \\n{format_instructions}\n",
    "    \"\"\",\n",
    "    input_variables=[\"subject\"],\n",
    "    partial_variables={\"format_instructions\": format_instructions},\n",
    ")"
   ]
  },
  {
   "cell_type": "code",
   "execution_count": 50,
   "id": "8ca80454",
   "metadata": {},
   "outputs": [],
   "source": [
    "# 사용자 입력\n",
    "interested = input(\"관심있는 분야를 입력하세요\")"
   ]
  },
  {
   "cell_type": "code",
   "execution_count": 51,
   "id": "7ca5334c",
   "metadata": {},
   "outputs": [
    {
     "name": "stdout",
     "output_type": "stream",
     "text": [
      "['강원도 평창 동계올림픽', '전라북도 무주 태권도원', '경상남도 창원 국제사격장', '서울 잠실 야구장', '부산 해운대 서핑']\n"
     ]
    }
   ],
   "source": [
    "# OpenAI 모델 설정\n",
    "model = ChatOpenAI(temperature=0, model_name=\"gpt-4o\")\n",
    "\n",
    "# 프롬프트, 모델, 출력 파서를 연결하여 체인 생성\n",
    "chain = prompt | model | output_parser\n",
    "\n",
    "# \"사용자 입력\"에 대한 체인 호출 실행\n",
    "result = chain.invoke({\"subject\": interested})\n",
    "\n",
    "print(result)"
   ]
  }
 ],
 "metadata": {
  "kernelspec": {
   "display_name": "langchain-basic-py3.12",
   "language": "python",
   "name": "python3"
  },
  "language_info": {
   "codemirror_mode": {
    "name": "ipython",
    "version": 3
   },
   "file_extension": ".py",
   "mimetype": "text/x-python",
   "name": "python",
   "nbconvert_exporter": "python",
   "pygments_lexer": "ipython3",
   "version": "3.12.7"
  }
 },
 "nbformat": 4,
 "nbformat_minor": 5
}
