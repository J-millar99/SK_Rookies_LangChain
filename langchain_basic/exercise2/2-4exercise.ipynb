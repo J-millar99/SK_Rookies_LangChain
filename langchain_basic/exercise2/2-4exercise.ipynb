{
 "cells": [
  {
   "cell_type": "code",
   "execution_count": 3,
   "id": "7fd78828",
   "metadata": {},
   "outputs": [],
   "source": [
    "import os\n",
    "from dotenv import load_dotenv\n",
    "\n",
    "load_dotenv()\n",
    "OPENAI_API_KEY = os.getenv(\"OPENAI_API_KEY\")"
   ]
  },
  {
   "cell_type": "code",
   "execution_count": null,
   "id": "97bcfbb4",
   "metadata": {},
   "outputs": [
    {
     "name": "stdout",
     "output_type": "stream",
     "text": [
      "출력 형식 지시사항:\n",
      "The output should be a markdown code snippet formatted in the following schema, including the leading and trailing \"```json\" and \"```\":\n",
      "\n",
      "```json\n",
      "{\n",
      "\t\"destination\": string  // 여행 목적지를 출력\n",
      "\t\"duration\": string  // 여행 기간을 x박 x일로 표시\n",
      "\t\"budget\": string  // 예산을 만원 단위로 출력\n",
      "\t\"rating\": string  // 평점을 5점 만점으로 평가하여 출력\n",
      "\t\"activities\": string  // 여행 목적지에서 활동한 것들을 리스트로 출력\n",
      "}\n",
      "```\n",
      "===== 분석 결과 =====\n",
      "{'activities': ['해운대 바다 구경', '자갈치시장 회 먹기', '감천문화마을 구경'],\n",
      " 'budget': '30만원',\n",
      " 'destination': '부산',\n",
      " 'duration': '2박 3일',\n",
      " 'rating': '4'}\n"
     ]
    }
   ],
   "source": [
    "from langchain_openai import ChatOpenAI\n",
    "from langchain_core.prompts import ChatPromptTemplate\n",
    "from langchain.output_parsers import StructuredOutputParser, ResponseSchema\n",
    "\n",
    "from pprint import pprint\n",
    "\n",
    "response_schemas = [\n",
    "    ResponseSchema(name=\"destination\", description=\"여행 목적지를 출력\"),\n",
    "    ResponseSchema(name=\"duration\", description=\"여행 기간을 x박 x일로 표시\"),\n",
    "    ResponseSchema(name=\"budget\", description=\"예산을 만원 단위로 출력\"),\n",
    "    ResponseSchema(name=\"rating\", description=\"평점을 5점 만점으로 평가하여 출력\"),\n",
    "    ResponseSchema(name=\"activities\", description=\"여행 목적지에서 활동한 것들을 리스트로 출력\")\n",
    "]\n",
    "\n",
    "# 파서 초기화\n",
    "parser = StructuredOutputParser.from_response_schemas(response_schemas)\n",
    "format_instructions = parser.get_format_instructions()\n",
    "\n",
    "# 프롬프트 템플릿\n",
    "template = \"\"\"\n",
    "여행 후기나 계획 텍스트를 입력받아 여행지, 기간, 예산, 추천도(1-5점), 주요 활동 리스트 순서를 지켜 구조화된 형태로 출력해주세요.\n",
    "리뷰 내용: {review}\n",
    "\n",
    "{format_instructions}\n",
    "\"\"\"\n",
    "\n",
    "prompt = ChatPromptTemplate.from_template(template)\n",
    "prompt = prompt.partial(format_instructions=format_instructions)\n",
    "\n",
    "# 모델 초기화 (temperature=0.5로 설정해 일관성 있는 출력)\n",
    "model = ChatOpenAI(temperature=0.7, model=\"gpt-3.5-turbo\")\n",
    "\n",
    "# 테스트 리뷰 데이터\n",
    "review = input()\n",
    "\n",
    "# 체인 실행\n",
    "chain = prompt | model | parser\n",
    "\n",
    "output = chain.invoke({\"review\": review})\n",
    "\n",
    "# 결과 출력 (Pretty Print)\n",
    "print(\"===== 분석 결과 =====\")\n",
    "pprint(output)"
   ]
  }
 ],
 "metadata": {
  "kernelspec": {
   "display_name": "langchain-basic-py3.12",
   "language": "python",
   "name": "python3"
  },
  "language_info": {
   "codemirror_mode": {
    "name": "ipython",
    "version": 3
   },
   "file_extension": ".py",
   "mimetype": "text/x-python",
   "name": "python",
   "nbconvert_exporter": "python",
   "pygments_lexer": "ipython3",
   "version": "3.12.7"
  }
 },
 "nbformat": 4,
 "nbformat_minor": 5
}
