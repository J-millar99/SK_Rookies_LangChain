{
 "cells": [
  {
   "cell_type": "markdown",
   "id": "ecbe8c7a",
   "metadata": {},
   "source": [
    "문제 1-1 : 기본 체인 만들기 - AI 요리사"
   ]
  },
  {
   "cell_type": "code",
   "execution_count": 17,
   "id": "8fe23525",
   "metadata": {},
   "outputs": [
    {
     "name": "stdout",
     "output_type": "stream",
     "text": [
      "토마토, 양파, 치즈로 만들 수 있는 간단한 요리는 피자입니다.\n",
      "\n",
      "*   **준비물**: 토마토, 양파, 치즈, 피자도우, 올리브오일, 소금, 후추\n",
      "*   **요리 방법**:\n",
      "\n",
      "1.  피자 도우를 준비합니다. \n",
      "2.  양파와 토마토를 깨끗이 씻고, 잘게 썰어줍니다.\n",
      "3.  피자 도우 위에 올리브오일을 바르고, 양파와 토마토를 올려줍니다.\n",
      "4.  치즈를 뿌려줍니다.\n",
      "5.  소금과 후추로 간을 합니다.\n",
      "6.  오븐에 넣고 180도로 10\\~15분 정도 구워줍니다.\n",
      "\n",
      "    간단하지만 맛있는 피자가 완성됩니다!\n"
     ]
    }
   ],
   "source": [
    "from langchain_core.output_parsers import StrOutputParser\n",
    "import os\n",
    "from dotenv import load_dotenv\n",
    "from langchain_core.prompts import PromptTemplate\n",
    "from langchain_openai import ChatOpenAI \n",
    "\n",
    "load_dotenv()\n",
    "OPENAI_API_KEY = os.getenv(\"OPENAI_API_KEY\")\n",
    "\n",
    "ingredients = input(\"요리 재료를 입력\")\n",
    "\n",
    "template_text = \"{input} 다음 재료를 가지고 만들 수 있는 간단한 요리를 소개해 주세요.\"\n",
    "prompt_template = PromptTemplate.from_template(template_text)\n",
    "\n",
    "# Groq API를 사용하는 ChatOpenAI 인스턴스 생성\n",
    "llm = ChatOpenAI(\n",
    "    api_key=OPENAI_API_KEY,\n",
    "    base_url=\"https://api.groq.com/openai/v1\",  # Groq API 엔드포인트\n",
    "    model=\"meta-llama/llama-4-scout-17b-16e-instruct\",\n",
    "    temperature=0.7\n",
    ")\n",
    "\n",
    "# chain 연결 (LCEL) prompt + llm + outputparser\n",
    "output_parser = StrOutputParser()\n",
    "\n",
    "chain = prompt_template | llm | output_parser\n",
    "\n",
    "# chain 호출\n",
    "try:\n",
    "    result = chain.invoke({\"input\": ingredients})\n",
    "    print(result)\n",
    "except Exception as e:\n",
    "    print(f\"오류 발생: {e}\")"
   ]
  }
 ],
 "metadata": {
  "kernelspec": {
   "display_name": "langchain-basic-py3.12",
   "language": "python",
   "name": "python3"
  },
  "language_info": {
   "codemirror_mode": {
    "name": "ipython",
    "version": 3
   },
   "file_extension": ".py",
   "mimetype": "text/x-python",
   "name": "python",
   "nbconvert_exporter": "python",
   "pygments_lexer": "ipython3",
   "version": "3.12.7"
  }
 },
 "nbformat": 4,
 "nbformat_minor": 5
}
