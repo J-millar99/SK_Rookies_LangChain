{
 "cells": [
  {
   "cell_type": "markdown",
   "id": "315e8374",
   "metadata": {},
   "source": [
    "문제 1-2 : 2단계 체인 만들기 - 영화 추천 시스템 "
   ]
  },
  {
   "cell_type": "code",
   "execution_count": 1,
   "id": "8745a1db",
   "metadata": {},
   "outputs": [
    {
     "name": "stdout",
     "output_type": "stream",
     "text": [
      "추천된 영화:  *   **영화:** 《어바웃 타임》\n",
      "\n",
      "*   **출연:** 도미널 글리슨, 레이철 맥아담스, 빌 나이히, 린제이 던칸\n",
      "\n",
      "*   **개봉:** 2013년 11월 6일\n",
      "\n",
      "*   **내용:** 타임리프 능력을 가진 주인공이 첫사랑과 다시 만나는 과정을 그린 영화입니다. 유머러스한 상황과 감동적인 장면으로 유명합니다.\n",
      "\n",
      "*   **장르:** 코미디, 멜로/로맨스\n",
      "에어플레인!\n",
      "\n",
      "전직 조종사 테드 스트라이커는 이혼 후 우울증을 앓고 있습니다. 그는 옛 연인 조디를 만나러 가기 위해 비행기를 타게 되고, 비행기에서 응급 환자가 발생하자 기내에서 응급 환자를 치료하기 위해 조종사로 나서게 됩니다. 영화는 항공 여행의 위험성과 조종사의 중요성을 코믹하게 그려냈고, 대사, 상황, 캐릭터들이 모두 코믹하고 재미있습니다.\n"
     ]
    }
   ],
   "source": [
    "from langchain_core.output_parsers import StrOutputParser\n",
    "import os\n",
    "from dotenv import load_dotenv\n",
    "from langchain_core.prompts import ChatPromptTemplate\n",
    "from langchain_openai import ChatOpenAI\n",
    "\n",
    "load_dotenv()\n",
    "OPENAI_API_KEY = os.getenv(\"OPENAI_API_KEY\")\n",
    "\n",
    "genre = input(\"영화 장르를 입력\")\n",
    "\n",
    "# Step 1: 사용자가 입력한 장르에 따라 영화 추천\n",
    "prompt1 = ChatPromptTemplate.from_template(\"{genre} 장르에서 추천할 만한 영화를 한 편 알려주세요.\")\n",
    "\n",
    "# Step 2: 추천된 영화의 줄거리를 요약\n",
    "prompt2 = ChatPromptTemplate.from_template(\"{movie} 추천한 영화의 제목을 먼저 알려주시고, 줄을 바꾸어서 영화의 줄거리를 3문장으로 요약해 주세요.\")\n",
    "\n",
    "llm = ChatOpenAI(\n",
    "    api_key=OPENAI_API_KEY,\n",
    "    base_url=\"https://api.groq.com/openai/v1\",  # Groq API 엔드포인트\n",
    "    model=\"meta-llama/llama-4-scout-17b-16e-instruct\",\n",
    "    temperature=0.7\n",
    ")\n",
    "\n",
    "chain1 = prompt1 | llm | StrOutputParser()\n",
    "movie = chain1.invoke({\"genre\": genre})\n",
    "print(\"추천된 영화: \", movie)\n",
    "# 체인 2: 줄거리 요약 (입력: 영화 제목 → 출력: 줄거리)\n",
    "try:\n",
    "    chain2 = (\n",
    "        {\"movie\": chain1}  # chain1의 출력을 movie 변수로 전달\n",
    "        | prompt2\n",
    "        | llm\n",
    "        | StrOutputParser()\n",
    "    )\n",
    "\n",
    "    response = chain2.invoke({\"genre\": genre})\n",
    "    print(response)\n",
    "except Exception as e:\n",
    "    print(f\"오류 발생: {e}\")"
   ]
  }
 ],
 "metadata": {
  "kernelspec": {
   "display_name": "langchain-basic-py3.12",
   "language": "python",
   "name": "python3"
  },
  "language_info": {
   "codemirror_mode": {
    "name": "ipython",
    "version": 3
   },
   "file_extension": ".py",
   "mimetype": "text/x-python",
   "name": "python",
   "nbconvert_exporter": "python",
   "pygments_lexer": "ipython3",
   "version": "3.12.7"
  }
 },
 "nbformat": 4,
 "nbformat_minor": 5
}
