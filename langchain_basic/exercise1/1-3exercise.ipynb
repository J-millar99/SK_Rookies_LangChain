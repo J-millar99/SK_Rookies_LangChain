{
 "cells": [
  {
   "cell_type": "markdown",
   "id": "315e8374",
   "metadata": {},
   "source": [
    "문제 1-2 : 2단계 체인 만들기 - 영화 추천 시스템 "
   ]
  },
  {
   "cell_type": "code",
   "execution_count": 9,
   "id": "8745a1db",
   "metadata": {},
   "outputs": [
    {
     "name": "stdout",
     "output_type": "stream",
     "text": [
      "최근 뉴스: \"정부 및 국내 주요 IT 기업들이 'AI 인재 유치'에 속도를 내고 있다. 유럽과 중국 등 글로벌 무대에서 숙련된 AI 및 과학기술 인력 확보를 위한 경쟁이 치열해지고 있다.\"\n",
      "\n",
      " 핵심 키워드: \n",
      "\n",
      "1.  AI 인재\n",
      "2.  IT 기업\n",
      "3.  과학기술 인력\n"
     ]
    }
   ],
   "source": [
    "from langchain_core.output_parsers import StrOutputParser\n",
    "import os\n",
    "from dotenv import load_dotenv\n",
    "from langchain_core.prompts import ChatPromptTemplate, FewShotChatMessagePromptTemplate\n",
    "from langchain_openai import ChatOpenAI\n",
    "load_dotenv()\n",
    "OPENAI_API_KEY = os.getenv(\"OPENAI_API_KEY\")\n",
    "\n",
    "examples = [\n",
    "    {\n",
    "        \"news\": \"삼성전자가 내년 초에 자체적으로 개발한 인공지능(AI) 가속기를 처음으로 출시할 예정이다. 이는 AI 반도체 시장에서 지배적인 위치를 차지하고 있는 엔비디아의 독점을 도전하고, 세계 최고의 반도체 제조업체로서의 지위를 다시 확립하려는 삼성전자의 노력으로 해석된다.\",\n",
    "        \"keywords\": \"삼성전자, 인공지능, 엔비디아\"\n",
    "    },\n",
    "    {\n",
    "        \"news\": \"세계보건기구(WHO)는 최근 새로운 건강 위기에 대응하기 위해 국제 협력의 중요성을 강조했다. 전염병 대응 역량의 강화와 글로벌 보건 시스템의 개선이 필요하다고 발표했다.\",\n",
    "        \"keywords\": \"세계보건기구, 건강위기, 국제협력\"\n",
    "    },\n",
    "    {\n",
    "        \"news\": \"폴라리스AI가 미국의 공공안전기술 선도기업 액손 엔터프라이즈(Axon)와 파트너십을 체결했다. 바디캠 및 디지털 증거 관리 시스템(DEMS) 분야에서 협력을 강화하며, 국내 AI 기술의 글로벌 시장 진출을 모색한다.\",\n",
    "        \"keywords\": \"폴라리스AI, 액손엔터프라이즈, 디지털증거관리\"\n",
    "    },\n",
    "    {\n",
    "        \"news\": \"CJ올리브네트웍스와 시스코코리아가 전략적 업무협약(MOU)을 체결하고, GPU 기반 AI 인프라 사업을 확대하기로 했다. 양사는 AI 계산력 강화와 클라우드 연동을 중심으로 협력 범위를 넓힐 계획이다.\",\n",
    "        \"keywords\": \"CJ올리브네트웍스, 시스코코리아, AI인프라\"\n",
    "    },\n",
    "    {\n",
    "        \"news\": \"정부 및 국내 주요 IT 기업들이 'AI 인재 유치'에 속도를 내고 있다. 유럽과 중국 등 글로벌 무대에서 숙련된 AI 및 과학기술 인력 확보를 위한 경쟁이 치열해지고 있다.\",\n",
    "        \"keywords\": \"AI인재, 정부, IT기업\"\n",
    "    }\n",
    "]\n",
    "\n",
    "# 예제 프롬프트 템플릿\n",
    "example_prompt = ChatPromptTemplate.from_messages(\n",
    "    [\n",
    "        (\"human\", \"{news}\"),\n",
    "        (\"키워드: {keywords}\"),\n",
    "    ]\n",
    ")\n",
    "\n",
    "# FewShotChatMessagePromptTemplate 적용\n",
    "few_shot_prompt = FewShotChatMessagePromptTemplate(\n",
    "    example_prompt=example_prompt,\n",
    "    examples=examples,\n",
    ")\n",
    "\n",
    "# 최종 프롬프트 구성\n",
    "final_prompt = ChatPromptTemplate.from_messages(\n",
    "    [\n",
    "        (\"system\", \"뉴스 키워드 추출 전문가입니다. 핵심 키워드 3개를 추출하세요.\"),\n",
    "        few_shot_prompt,\n",
    "        (\"human\", \"{input}\"),\n",
    "    ]\n",
    ")\n",
    "\n",
    "# 모델 생성 및 체인 구성\n",
    "model = llm = ChatOpenAI(\n",
    "    api_key=OPENAI_API_KEY,\n",
    "    base_url=\"https://api.groq.com/openai/v1\",  # Groq API 엔드포인트\n",
    "    model=\"meta-llama/llama-4-scout-17b-16e-instruct\",\n",
    "    temperature=0.7\n",
    ")\n",
    "chain = final_prompt | model\n",
    "\n",
    "# 테스트 실행\n",
    "result = chain.invoke({\"input\": \"최신 뉴스 하나를 분석해주세요.\"})\n",
    "print(result.content)\n"
   ]
  }
 ],
 "metadata": {
  "kernelspec": {
   "display_name": "langchain-basic-py3.12",
   "language": "python",
   "name": "python3"
  },
  "language_info": {
   "codemirror_mode": {
    "name": "ipython",
    "version": 3
   },
   "file_extension": ".py",
   "mimetype": "text/x-python",
   "name": "python",
   "nbconvert_exporter": "python",
   "pygments_lexer": "ipython3",
   "version": "3.12.7"
  }
 },
 "nbformat": 4,
 "nbformat_minor": 5
}
