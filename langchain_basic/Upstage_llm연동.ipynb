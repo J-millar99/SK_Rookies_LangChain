{
 "cells": [
  {
   "cell_type": "code",
   "execution_count": 2,
   "id": "40db901b",
   "metadata": {},
   "outputs": [],
   "source": [
    "import os\n",
    "from dotenv import load_dotenv\n",
    "\n",
    "load_dotenv()\n",
    "OPENAI_API_KEY = os.getenv(\"UPSTAGE_API_KEY\")"
   ]
  },
  {
   "cell_type": "code",
   "execution_count": 3,
   "id": "17e0a78f",
   "metadata": {},
   "outputs": [
    {
     "name": "stdout",
     "output_type": "stream",
     "text": [
      "<class 'langchain_core.messages.ai.AIMessage'>\n",
      "LangChain은 자연어 처리(NLP)와 대화형 AI를 위한 Python 라이브러리입니다. 이 라이브러리는 언어 모델을 대화형 시스템에 통합하는 과정을 단순화하기 위해 설계되었습니다. LangChain은 챗봇, 가상 어시스턴트, 대화형 애플리케이션과 같은 애플리케이션을 구축하기 위한 다양한 도구와 기능을 제공합니다.\n",
      "\n",
      "LangChain의 주요 기능은 다음과 같습니다:\n",
      "\n",
      "1. **언어 모델 통합**: LangChain은 GPT-3, DialoGPT, BlenderBot과 같은 다양한 언어 모델을 지원하여 개발자가 대화형 시스템을 쉽게 구축할 수 있도록 합니다.\n",
      "\n",
      "2. **챗봇 프레임워크**: LangChain은 유연하고 확장 가능한 챗봇을 만드는 프레임워크를 제공하여 개발자가 대화 흐름을 사용자 정의하고, 컨텍스트 관리를 구현하고, 추가 기능을 위한 플러그인을 통합할 수 있게 합니다.\n",
      "\n",
      "3. **대화 관리**: 이 라이브러리는 컨텍스트 추적, 대화 기록, 사용자 선호도 처리 등 대화 관리를 위한 도구를 포함하여 더 자연스럽고 일관된 상호작용을 가능하게 합니다.\n",
      "\n",
      "4. **외부 API와의 통합**: LangChain은 개발자가 챗봇을 외부 API와 연결하여 날씨 정보 제공, 질문에 대한 답변 검색, 제3자 서비스와의 상호작용과 같은 작업을 수행할 수 있게 합니다.\n",
      "\n",
      "5. **사용자 정의 응답 생성**: LangChain은 템플릿, 매개변수화된 응답, 동적 콘텐츠 생성을 통해 개발자가 사용자 정의 응답을 만들 수 있게 합니다.\n",
      "\n",
      "6. **보안 및 개인 정보 보호**: 이 라이브러리는 사용자 데이터 보호 및 안전한 통신을 위한 보안 및 개인 정보 보호 관행을 우선시하여 민감한 정보를 다룰 때 신뢰할 수 있는 도구입니다.\n",
      "\n",
      "전반적으로 LangChain은 LangChain이 제공하는 강력한 기능과 도구를 통해 자연스럽고 상호작용적인 AI 시스템을 구축하는 과정을 단순화하는 대화형 AI 애플리케이션을 개발하는 개발자에게 유용한 도구입니다.\n"
     ]
    }
   ],
   "source": [
    "from langchain_upstage import ChatUpstage\n",
    "\n",
    "llm = ChatUpstage(\n",
    "        model=\"solar-pro\",\n",
    "        base_url=\"https://api.upstage.ai/v1\",\n",
    "        temperature=0.5\n",
    "    )\n",
    "    \n",
    "ai_message=llm.invoke(\"LangChain은 무엇인가요?\")\n",
    "print(type(ai_message))\n",
    "print(ai_message.content)"
   ]
  },
  {
   "cell_type": "code",
   "execution_count": 4,
   "id": "b056bae9",
   "metadata": {},
   "outputs": [
    {
     "name": "stdout",
     "output_type": "stream",
     "text": [
      "Upstage Response:\n",
      "LangChain은 AI 애플리케이션을 구축하기 위한 강력한 프레임워크입니다.\n"
     ]
    }
   ],
   "source": [
    "from langchain_upstage import ChatUpstage\n",
    "from langchain_core.prompts import ChatPromptTemplate\n",
    "\n",
    "translation_prompt = ChatPromptTemplate.from_messages([\n",
    "        (\"system\", \"You are a professional translator specializing in Korean-English translation.\"),\n",
    "        (\"human\", \"Translate this from {source_lang} to {target_lang}: {text}\")\n",
    "    ])\n",
    "\n",
    "llm = ChatUpstage(\n",
    "        model=\"solar-pro\",\n",
    "        base_url=\"https://api.upstage.ai/v1\",\n",
    "        temperature=0.5\n",
    "    )\n",
    "\n",
    "# 체인 실행\n",
    "chain = translation_prompt | llm\n",
    "\n",
    "response = chain.invoke({\n",
    "    \"source_lang\": \"English\",\n",
    "    \"target_lang\": \"Korean\", \n",
    "    \"text\": \"LangChain is a powerful framework for building AI applications.\"\n",
    "})\n",
    "\n",
    "print(\"Upstage Response:\")\n",
    "print(response.content)"
   ]
  }
 ],
 "metadata": {
  "kernelspec": {
   "display_name": "langchain-basic-py3.12",
   "language": "python",
   "name": "python3"
  },
  "language_info": {
   "codemirror_mode": {
    "name": "ipython",
    "version": 3
   },
   "file_extension": ".py",
   "mimetype": "text/x-python",
   "name": "python",
   "nbconvert_exporter": "python",
   "pygments_lexer": "ipython3",
   "version": "3.12.7"
  }
 },
 "nbformat": 4,
 "nbformat_minor": 5
}
